{
 "cells": [
  {
   "cell_type": "code",
   "execution_count": 1,
   "metadata": {},
   "outputs": [],
   "source": [
    "import pandas as pd"
   ]
  },
  {
   "cell_type": "code",
   "execution_count": 2,
   "metadata": {},
   "outputs": [],
   "source": [
    "a = [2]"
   ]
  },
  {
   "cell_type": "code",
   "execution_count": 3,
   "metadata": {},
   "outputs": [],
   "source": [
    "b = [4]"
   ]
  },
  {
   "cell_type": "code",
   "execution_count": 4,
   "metadata": {},
   "outputs": [],
   "source": [
    "a.append(b)"
   ]
  },
  {
   "cell_type": "code",
   "execution_count": 5,
   "metadata": {},
   "outputs": [
    {
     "data": {
      "text/plain": [
       "[2, [4]]"
      ]
     },
     "execution_count": 5,
     "metadata": {},
     "output_type": "execute_result"
    }
   ],
   "source": [
    "a"
   ]
  },
  {
   "cell_type": "code",
   "execution_count": 6,
   "metadata": {},
   "outputs": [],
   "source": [
    "df = pd.read_csv('https://raw.githubusercontent.com/WalePhenomenon/climate_change/master/fuel_ferc1.csv')"
   ]
  },
  {
   "cell_type": "code",
   "execution_count": 7,
   "metadata": {},
   "outputs": [
    {
     "data": {
      "text/html": [
       "<div>\n",
       "<style scoped>\n",
       "    .dataframe tbody tr th:only-of-type {\n",
       "        vertical-align: middle;\n",
       "    }\n",
       "\n",
       "    .dataframe tbody tr th {\n",
       "        vertical-align: top;\n",
       "    }\n",
       "\n",
       "    .dataframe thead th {\n",
       "        text-align: right;\n",
       "    }\n",
       "</style>\n",
       "<table border=\"1\" class=\"dataframe\">\n",
       "  <thead>\n",
       "    <tr style=\"text-align: right;\">\n",
       "      <th></th>\n",
       "      <th>record_id</th>\n",
       "      <th>utility_id_ferc1</th>\n",
       "      <th>report_year</th>\n",
       "      <th>plant_name_ferc1</th>\n",
       "      <th>fuel_type_code_pudl</th>\n",
       "      <th>fuel_unit</th>\n",
       "      <th>fuel_qty_burned</th>\n",
       "      <th>fuel_mmbtu_per_unit</th>\n",
       "      <th>fuel_cost_per_unit_burned</th>\n",
       "      <th>fuel_cost_per_unit_delivered</th>\n",
       "      <th>fuel_cost_per_mmbtu</th>\n",
       "    </tr>\n",
       "  </thead>\n",
       "  <tbody>\n",
       "    <tr>\n",
       "      <th>0</th>\n",
       "      <td>f1_fuel_1994_12_1_0_7</td>\n",
       "      <td>1</td>\n",
       "      <td>1994</td>\n",
       "      <td>rockport</td>\n",
       "      <td>coal</td>\n",
       "      <td>ton</td>\n",
       "      <td>5377489.0</td>\n",
       "      <td>16.590</td>\n",
       "      <td>18.59</td>\n",
       "      <td>18.53</td>\n",
       "      <td>1.121</td>\n",
       "    </tr>\n",
       "    <tr>\n",
       "      <th>1</th>\n",
       "      <td>f1_fuel_1994_12_1_0_10</td>\n",
       "      <td>1</td>\n",
       "      <td>1994</td>\n",
       "      <td>rockport total plant</td>\n",
       "      <td>coal</td>\n",
       "      <td>ton</td>\n",
       "      <td>10486945.0</td>\n",
       "      <td>16.592</td>\n",
       "      <td>18.58</td>\n",
       "      <td>18.53</td>\n",
       "      <td>1.120</td>\n",
       "    </tr>\n",
       "    <tr>\n",
       "      <th>2</th>\n",
       "      <td>f1_fuel_1994_12_2_0_1</td>\n",
       "      <td>2</td>\n",
       "      <td>1994</td>\n",
       "      <td>gorgas</td>\n",
       "      <td>coal</td>\n",
       "      <td>ton</td>\n",
       "      <td>2978683.0</td>\n",
       "      <td>24.130</td>\n",
       "      <td>39.72</td>\n",
       "      <td>38.12</td>\n",
       "      <td>1.650</td>\n",
       "    </tr>\n",
       "    <tr>\n",
       "      <th>3</th>\n",
       "      <td>f1_fuel_1994_12_2_0_7</td>\n",
       "      <td>2</td>\n",
       "      <td>1994</td>\n",
       "      <td>barry</td>\n",
       "      <td>coal</td>\n",
       "      <td>ton</td>\n",
       "      <td>3739484.0</td>\n",
       "      <td>23.950</td>\n",
       "      <td>47.21</td>\n",
       "      <td>45.99</td>\n",
       "      <td>1.970</td>\n",
       "    </tr>\n",
       "    <tr>\n",
       "      <th>4</th>\n",
       "      <td>f1_fuel_1994_12_2_0_10</td>\n",
       "      <td>2</td>\n",
       "      <td>1994</td>\n",
       "      <td>chickasaw</td>\n",
       "      <td>gas</td>\n",
       "      <td>mcf</td>\n",
       "      <td>40533.0</td>\n",
       "      <td>1.000</td>\n",
       "      <td>2.77</td>\n",
       "      <td>2.77</td>\n",
       "      <td>2.570</td>\n",
       "    </tr>\n",
       "  </tbody>\n",
       "</table>\n",
       "</div>"
      ],
      "text/plain": [
       "                record_id  utility_id_ferc1  report_year  \\\n",
       "0   f1_fuel_1994_12_1_0_7                 1         1994   \n",
       "1  f1_fuel_1994_12_1_0_10                 1         1994   \n",
       "2   f1_fuel_1994_12_2_0_1                 2         1994   \n",
       "3   f1_fuel_1994_12_2_0_7                 2         1994   \n",
       "4  f1_fuel_1994_12_2_0_10                 2         1994   \n",
       "\n",
       "       plant_name_ferc1 fuel_type_code_pudl fuel_unit  fuel_qty_burned  \\\n",
       "0              rockport                coal       ton        5377489.0   \n",
       "1  rockport total plant                coal       ton       10486945.0   \n",
       "2                gorgas                coal       ton        2978683.0   \n",
       "3                 barry                coal       ton        3739484.0   \n",
       "4             chickasaw                 gas       mcf          40533.0   \n",
       "\n",
       "   fuel_mmbtu_per_unit  fuel_cost_per_unit_burned  \\\n",
       "0               16.590                      18.59   \n",
       "1               16.592                      18.58   \n",
       "2               24.130                      39.72   \n",
       "3               23.950                      47.21   \n",
       "4                1.000                       2.77   \n",
       "\n",
       "   fuel_cost_per_unit_delivered  fuel_cost_per_mmbtu  \n",
       "0                         18.53                1.121  \n",
       "1                         18.53                1.120  \n",
       "2                         38.12                1.650  \n",
       "3                         45.99                1.970  \n",
       "4                          2.77                2.570  "
      ]
     },
     "execution_count": 7,
     "metadata": {},
     "output_type": "execute_result"
    }
   ],
   "source": [
    "df.head()"
   ]
  },
  {
   "cell_type": "code",
   "execution_count": 11,
   "metadata": {},
   "outputs": [
    {
     "data": {
      "text/html": [
       "<div>\n",
       "<style scoped>\n",
       "    .dataframe tbody tr th:only-of-type {\n",
       "        vertical-align: middle;\n",
       "    }\n",
       "\n",
       "    .dataframe tbody tr th {\n",
       "        vertical-align: top;\n",
       "    }\n",
       "\n",
       "    .dataframe thead th {\n",
       "        text-align: right;\n",
       "    }\n",
       "</style>\n",
       "<table border=\"1\" class=\"dataframe\">\n",
       "  <thead>\n",
       "    <tr style=\"text-align: right;\">\n",
       "      <th></th>\n",
       "      <th>record_id</th>\n",
       "      <th>utility_id_ferc1</th>\n",
       "      <th>report_year</th>\n",
       "      <th>plant_name_ferc1</th>\n",
       "      <th>fuel_type_code_pudl</th>\n",
       "      <th>fuel_unit</th>\n",
       "      <th>fuel_qty_burned</th>\n",
       "      <th>fuel_mmbtu_per_unit</th>\n",
       "      <th>fuel_cost_per_unit_burned</th>\n",
       "      <th>fuel_cost_per_unit_delivered</th>\n",
       "      <th>fuel_cost_per_mmbtu</th>\n",
       "    </tr>\n",
       "  </thead>\n",
       "  <tbody>\n",
       "    <tr>\n",
       "      <th>5403</th>\n",
       "      <td>f1_fuel_1998_12_149_4_2</td>\n",
       "      <td>149</td>\n",
       "      <td>1998</td>\n",
       "      <td>salem (nuclear)</td>\n",
       "      <td>nuclear</td>\n",
       "      <td>gramsU</td>\n",
       "      <td>1.0</td>\n",
       "      <td>0.000060</td>\n",
       "      <td>31.908</td>\n",
       "      <td>0.000</td>\n",
       "      <td>0.5290</td>\n",
       "    </tr>\n",
       "    <tr>\n",
       "      <th>6872</th>\n",
       "      <td>f1_fuel_2000_12_75_1_2</td>\n",
       "      <td>75</td>\n",
       "      <td>2000</td>\n",
       "      <td>louisa, ia</td>\n",
       "      <td>oil</td>\n",
       "      <td>bbl</td>\n",
       "      <td>1.0</td>\n",
       "      <td>5.880000</td>\n",
       "      <td>41.473</td>\n",
       "      <td>28.980</td>\n",
       "      <td>7.0530</td>\n",
       "    </tr>\n",
       "    <tr>\n",
       "      <th>9203</th>\n",
       "      <td>f1_fuel_2001_12_75_1_2</td>\n",
       "      <td>75</td>\n",
       "      <td>2001</td>\n",
       "      <td>louisa, ia</td>\n",
       "      <td>oil</td>\n",
       "      <td>bbl</td>\n",
       "      <td>1.0</td>\n",
       "      <td>5.880000</td>\n",
       "      <td>40.308</td>\n",
       "      <td>0.000</td>\n",
       "      <td>6.8550</td>\n",
       "    </tr>\n",
       "    <tr>\n",
       "      <th>10343</th>\n",
       "      <td>f1_fuel_2002_12_281_4_5</td>\n",
       "      <td>281</td>\n",
       "      <td>2002</td>\n",
       "      <td>louisa</td>\n",
       "      <td>oil</td>\n",
       "      <td>bbl</td>\n",
       "      <td>1.0</td>\n",
       "      <td>5.880000</td>\n",
       "      <td>45.120</td>\n",
       "      <td>0.000</td>\n",
       "      <td>7.6730</td>\n",
       "    </tr>\n",
       "    <tr>\n",
       "      <th>13019</th>\n",
       "      <td>f1_fuel_2004_12_120_0_5</td>\n",
       "      <td>120</td>\n",
       "      <td>2004</td>\n",
       "      <td>mn valley</td>\n",
       "      <td>gas</td>\n",
       "      <td>mcf</td>\n",
       "      <td>1.0</td>\n",
       "      <td>1.000000</td>\n",
       "      <td>335.160</td>\n",
       "      <td>335.160</td>\n",
       "      <td>3.3516</td>\n",
       "    </tr>\n",
       "    <tr>\n",
       "      <th>13704</th>\n",
       "      <td>f1_fuel_2005_12_42_1_13</td>\n",
       "      <td>42</td>\n",
       "      <td>2005</td>\n",
       "      <td>yankee</td>\n",
       "      <td>oil</td>\n",
       "      <td>bbl</td>\n",
       "      <td>1.0</td>\n",
       "      <td>5.822796</td>\n",
       "      <td>32.528</td>\n",
       "      <td>32.528</td>\n",
       "      <td>5.5860</td>\n",
       "    </tr>\n",
       "    <tr>\n",
       "      <th>13925</th>\n",
       "      <td>f1_fuel_2005_12_9_0_10</td>\n",
       "      <td>9</td>\n",
       "      <td>2005</td>\n",
       "      <td>conemaugh (3.83%)</td>\n",
       "      <td>oil</td>\n",
       "      <td>bbl</td>\n",
       "      <td>1.0</td>\n",
       "      <td>5.767524</td>\n",
       "      <td>58.469</td>\n",
       "      <td>73.492</td>\n",
       "      <td>10.1380</td>\n",
       "    </tr>\n",
       "    <tr>\n",
       "      <th>15048</th>\n",
       "      <td>f1_fuel_2006_12_281_4_5</td>\n",
       "      <td>281</td>\n",
       "      <td>2006</td>\n",
       "      <td>louisa</td>\n",
       "      <td>oil</td>\n",
       "      <td>bbl</td>\n",
       "      <td>1.0</td>\n",
       "      <td>5.880000</td>\n",
       "      <td>78.030</td>\n",
       "      <td>0.000</td>\n",
       "      <td>13.2700</td>\n",
       "    </tr>\n",
       "    <tr>\n",
       "      <th>16831</th>\n",
       "      <td>f1_fuel_2007_12_194_4_8</td>\n",
       "      <td>194</td>\n",
       "      <td>2007</td>\n",
       "      <td>rock river unit 5</td>\n",
       "      <td>oil</td>\n",
       "      <td>bbl</td>\n",
       "      <td>1.0</td>\n",
       "      <td>5.882436</td>\n",
       "      <td>49.440</td>\n",
       "      <td>49.440</td>\n",
       "      <td>7.3630</td>\n",
       "    </tr>\n",
       "    <tr>\n",
       "      <th>16833</th>\n",
       "      <td>f1_fuel_2007_12_194_4_11</td>\n",
       "      <td>194</td>\n",
       "      <td>2007</td>\n",
       "      <td>rock river unit 6</td>\n",
       "      <td>oil</td>\n",
       "      <td>bbl</td>\n",
       "      <td>1.0</td>\n",
       "      <td>5.882436</td>\n",
       "      <td>44.290</td>\n",
       "      <td>0.000</td>\n",
       "      <td>7.3630</td>\n",
       "    </tr>\n",
       "    <tr>\n",
       "      <th>17139</th>\n",
       "      <td>f1_fuel_2008_12_7_3_7</td>\n",
       "      <td>7</td>\n",
       "      <td>2008</td>\n",
       "      <td>yucca 2</td>\n",
       "      <td>oil</td>\n",
       "      <td>bbl</td>\n",
       "      <td>1.0</td>\n",
       "      <td>5.805828</td>\n",
       "      <td>74.125</td>\n",
       "      <td>59.567</td>\n",
       "      <td>12.7670</td>\n",
       "    </tr>\n",
       "    <tr>\n",
       "      <th>18697</th>\n",
       "      <td>f1_fuel_2009_12_194_6_2</td>\n",
       "      <td>194</td>\n",
       "      <td>2009</td>\n",
       "      <td>s fond du lac unit 1</td>\n",
       "      <td>oil</td>\n",
       "      <td>bbl</td>\n",
       "      <td>1.0</td>\n",
       "      <td>5.881806</td>\n",
       "      <td>0.000</td>\n",
       "      <td>0.000</td>\n",
       "      <td>5.9510</td>\n",
       "    </tr>\n",
       "    <tr>\n",
       "      <th>18700</th>\n",
       "      <td>f1_fuel_2009_12_194_6_8</td>\n",
       "      <td>194</td>\n",
       "      <td>2009</td>\n",
       "      <td>s fond du lac u1&amp;4</td>\n",
       "      <td>oil</td>\n",
       "      <td>bbl</td>\n",
       "      <td>1.0</td>\n",
       "      <td>5.881806</td>\n",
       "      <td>0.000</td>\n",
       "      <td>0.000</td>\n",
       "      <td>5.9510</td>\n",
       "    </tr>\n",
       "    <tr>\n",
       "      <th>20469</th>\n",
       "      <td>f1_fuel_2010_12_281_3_14</td>\n",
       "      <td>281</td>\n",
       "      <td>2010</td>\n",
       "      <td>louisa</td>\n",
       "      <td>oil</td>\n",
       "      <td>bbl</td>\n",
       "      <td>1.0</td>\n",
       "      <td>5.805996</td>\n",
       "      <td>63.840</td>\n",
       "      <td>0.000</td>\n",
       "      <td>10.9960</td>\n",
       "    </tr>\n",
       "    <tr>\n",
       "      <th>21958</th>\n",
       "      <td>f1_fuel_2012_12_132_1_2</td>\n",
       "      <td>132</td>\n",
       "      <td>2012</td>\n",
       "      <td>solway</td>\n",
       "      <td>oil</td>\n",
       "      <td>bbl</td>\n",
       "      <td>1.0</td>\n",
       "      <td>5.880000</td>\n",
       "      <td>83.538</td>\n",
       "      <td>0.000</td>\n",
       "      <td>14.2070</td>\n",
       "    </tr>\n",
       "    <tr>\n",
       "      <th>23655</th>\n",
       "      <td>f1_fuel_2013_12_281_3_14</td>\n",
       "      <td>281</td>\n",
       "      <td>2013</td>\n",
       "      <td>louisa</td>\n",
       "      <td>oil</td>\n",
       "      <td>bbl</td>\n",
       "      <td>1.0</td>\n",
       "      <td>5.735100</td>\n",
       "      <td>128.400</td>\n",
       "      <td>0.000</td>\n",
       "      <td>22.3880</td>\n",
       "    </tr>\n",
       "    <tr>\n",
       "      <th>27593</th>\n",
       "      <td>f1_fuel_2017_12_122_2_1</td>\n",
       "      <td>122</td>\n",
       "      <td>2017</td>\n",
       "      <td>aberdeen #2</td>\n",
       "      <td>oil</td>\n",
       "      <td>bbl</td>\n",
       "      <td>1.0</td>\n",
       "      <td>5.796000</td>\n",
       "      <td>134.692</td>\n",
       "      <td>134.692</td>\n",
       "      <td>23.2390</td>\n",
       "    </tr>\n",
       "    <tr>\n",
       "      <th>28055</th>\n",
       "      <td>f1_fuel_2017_12_281_3_14</td>\n",
       "      <td>281</td>\n",
       "      <td>2017</td>\n",
       "      <td>louisa</td>\n",
       "      <td>oil</td>\n",
       "      <td>bbl</td>\n",
       "      <td>1.0</td>\n",
       "      <td>5.768784</td>\n",
       "      <td>0.016</td>\n",
       "      <td>0.000</td>\n",
       "      <td>15.5720</td>\n",
       "    </tr>\n",
       "  </tbody>\n",
       "</table>\n",
       "</div>"
      ],
      "text/plain": [
       "                      record_id  utility_id_ferc1  report_year  \\\n",
       "5403    f1_fuel_1998_12_149_4_2               149         1998   \n",
       "6872     f1_fuel_2000_12_75_1_2                75         2000   \n",
       "9203     f1_fuel_2001_12_75_1_2                75         2001   \n",
       "10343   f1_fuel_2002_12_281_4_5               281         2002   \n",
       "13019   f1_fuel_2004_12_120_0_5               120         2004   \n",
       "13704   f1_fuel_2005_12_42_1_13                42         2005   \n",
       "13925    f1_fuel_2005_12_9_0_10                 9         2005   \n",
       "15048   f1_fuel_2006_12_281_4_5               281         2006   \n",
       "16831   f1_fuel_2007_12_194_4_8               194         2007   \n",
       "16833  f1_fuel_2007_12_194_4_11               194         2007   \n",
       "17139     f1_fuel_2008_12_7_3_7                 7         2008   \n",
       "18697   f1_fuel_2009_12_194_6_2               194         2009   \n",
       "18700   f1_fuel_2009_12_194_6_8               194         2009   \n",
       "20469  f1_fuel_2010_12_281_3_14               281         2010   \n",
       "21958   f1_fuel_2012_12_132_1_2               132         2012   \n",
       "23655  f1_fuel_2013_12_281_3_14               281         2013   \n",
       "27593   f1_fuel_2017_12_122_2_1               122         2017   \n",
       "28055  f1_fuel_2017_12_281_3_14               281         2017   \n",
       "\n",
       "           plant_name_ferc1 fuel_type_code_pudl fuel_unit  fuel_qty_burned  \\\n",
       "5403        salem (nuclear)             nuclear    gramsU              1.0   \n",
       "6872             louisa, ia                 oil       bbl              1.0   \n",
       "9203             louisa, ia                 oil       bbl              1.0   \n",
       "10343                louisa                 oil       bbl              1.0   \n",
       "13019             mn valley                 gas       mcf              1.0   \n",
       "13704                yankee                 oil       bbl              1.0   \n",
       "13925     conemaugh (3.83%)                 oil       bbl              1.0   \n",
       "15048                louisa                 oil       bbl              1.0   \n",
       "16831     rock river unit 5                 oil       bbl              1.0   \n",
       "16833     rock river unit 6                 oil       bbl              1.0   \n",
       "17139               yucca 2                 oil       bbl              1.0   \n",
       "18697  s fond du lac unit 1                 oil       bbl              1.0   \n",
       "18700    s fond du lac u1&4                 oil       bbl              1.0   \n",
       "20469                louisa                 oil       bbl              1.0   \n",
       "21958                solway                 oil       bbl              1.0   \n",
       "23655                louisa                 oil       bbl              1.0   \n",
       "27593           aberdeen #2                 oil       bbl              1.0   \n",
       "28055                louisa                 oil       bbl              1.0   \n",
       "\n",
       "       fuel_mmbtu_per_unit  fuel_cost_per_unit_burned  \\\n",
       "5403              0.000060                     31.908   \n",
       "6872              5.880000                     41.473   \n",
       "9203              5.880000                     40.308   \n",
       "10343             5.880000                     45.120   \n",
       "13019             1.000000                    335.160   \n",
       "13704             5.822796                     32.528   \n",
       "13925             5.767524                     58.469   \n",
       "15048             5.880000                     78.030   \n",
       "16831             5.882436                     49.440   \n",
       "16833             5.882436                     44.290   \n",
       "17139             5.805828                     74.125   \n",
       "18697             5.881806                      0.000   \n",
       "18700             5.881806                      0.000   \n",
       "20469             5.805996                     63.840   \n",
       "21958             5.880000                     83.538   \n",
       "23655             5.735100                    128.400   \n",
       "27593             5.796000                    134.692   \n",
       "28055             5.768784                      0.016   \n",
       "\n",
       "       fuel_cost_per_unit_delivered  fuel_cost_per_mmbtu  \n",
       "5403                          0.000               0.5290  \n",
       "6872                         28.980               7.0530  \n",
       "9203                          0.000               6.8550  \n",
       "10343                         0.000               7.6730  \n",
       "13019                       335.160               3.3516  \n",
       "13704                        32.528               5.5860  \n",
       "13925                        73.492              10.1380  \n",
       "15048                         0.000              13.2700  \n",
       "16831                        49.440               7.3630  \n",
       "16833                         0.000               7.3630  \n",
       "17139                        59.567              12.7670  \n",
       "18697                         0.000               5.9510  \n",
       "18700                         0.000               5.9510  \n",
       "20469                         0.000              10.9960  \n",
       "21958                         0.000              14.2070  \n",
       "23655                         0.000              22.3880  \n",
       "27593                       134.692              23.2390  \n",
       "28055                         0.000              15.5720  "
      ]
     },
     "execution_count": 11,
     "metadata": {},
     "output_type": "execute_result"
    }
   ],
   "source": [
    "df[df['fuel_qty_burned'] == 1]"
   ]
  },
  {
   "cell_type": "code",
   "execution_count": 36,
   "metadata": {},
   "outputs": [
    {
     "ename": "SyntaxError",
     "evalue": "positional argument follows keyword argument (<ipython-input-36-4be8a37b2501>, line 1)",
     "output_type": "error",
     "traceback": [
      "\u001b[1;36m  File \u001b[1;32m\"<ipython-input-36-4be8a37b2501>\"\u001b[1;36m, line \u001b[1;32m1\u001b[0m\n\u001b[1;33m    df.groupby(pd.Grouper(key='report_year', 'fuel_type_code_pudl'))['fuel_cost_per_unit_burned'].mean()\u001b[0m\n\u001b[1;37m                                             ^\u001b[0m\n\u001b[1;31mSyntaxError\u001b[0m\u001b[1;31m:\u001b[0m positional argument follows keyword argument\n"
     ]
    }
   ],
   "source": [
    "df.groupby(pd.Grouper(key='report_year', 'fuel_type_code_pudl'))['fuel_cost_per_unit_burned'].mean()"
   ]
  },
  {
   "cell_type": "code",
   "execution_count": 16,
   "metadata": {},
   "outputs": [],
   "source": [
    "import scipy.stats as stats"
   ]
  },
  {
   "cell_type": "code",
   "execution_count": 43,
   "metadata": {},
   "outputs": [
    {
     "data": {
      "text/plain": [
       "(17.006, 10.600220307806714)"
      ]
     },
     "execution_count": 43,
     "metadata": {},
     "output_type": "execute_result"
    }
   ],
   "source": [
    "df['fuel_mmbtu_per_unit'].quantile(.75), df['fuel_mmbtu_per_unit'].std()"
   ]
  },
  {
   "cell_type": "code",
   "execution_count": 45,
   "metadata": {},
   "outputs": [
    {
     "data": {
      "text/plain": [
       "(15.851495469109503, 651.3694501337732)"
      ]
     },
     "execution_count": 45,
     "metadata": {},
     "output_type": "execute_result"
    }
   ],
   "source": [
    "df['fuel_qty_burned'].skew(), df['fuel_qty_burned'].kurt()"
   ]
  },
  {
   "cell_type": "code",
   "execution_count": 19,
   "metadata": {},
   "outputs": [
    {
     "data": {
      "text/plain": [
       "651.2589365474387"
      ]
     },
     "execution_count": 19,
     "metadata": {},
     "output_type": "execute_result"
    }
   ],
   "source": [
    "stats.kurtosis(df['fuel_qty_burned'])"
   ]
  },
  {
   "cell_type": "code",
   "execution_count": 20,
   "metadata": {},
   "outputs": [
    {
     "data": {
      "text/plain": [
       "15.850690077422112"
      ]
     },
     "execution_count": 20,
     "metadata": {},
     "output_type": "execute_result"
    }
   ],
   "source": [
    "stats.skew(df['fuel_qty_burned'])"
   ]
  },
  {
   "cell_type": "code",
   "execution_count": 22,
   "metadata": {},
   "outputs": [
    {
     "data": {
      "text/plain": [
       "record_id                         0\n",
       "utility_id_ferc1                  0\n",
       "report_year                       0\n",
       "plant_name_ferc1                  0\n",
       "fuel_type_code_pudl               0\n",
       "fuel_unit                       180\n",
       "fuel_qty_burned                   0\n",
       "fuel_mmbtu_per_unit               0\n",
       "fuel_cost_per_unit_burned         0\n",
       "fuel_cost_per_unit_delivered      0\n",
       "fuel_cost_per_mmbtu               0\n",
       "dtype: int64"
      ]
     },
     "execution_count": 22,
     "metadata": {},
     "output_type": "execute_result"
    }
   ],
   "source": [
    "df.isna().sum()"
   ]
  },
  {
   "cell_type": "code",
   "execution_count": 23,
   "metadata": {},
   "outputs": [
    {
     "data": {
      "text/plain": [
       "(29523, 11)"
      ]
     },
     "execution_count": 23,
     "metadata": {},
     "output_type": "execute_result"
    }
   ],
   "source": [
    "df.shape"
   ]
  },
  {
   "cell_type": "code",
   "execution_count": 25,
   "metadata": {},
   "outputs": [
    {
     "data": {
      "text/plain": [
       "0.609694136774718"
      ]
     },
     "execution_count": 25,
     "metadata": {},
     "output_type": "execute_result"
    }
   ],
   "source": [
    "(180/29523)*100"
   ]
  },
  {
   "cell_type": "code",
   "execution_count": 27,
   "metadata": {},
   "outputs": [
    {
     "data": {
      "text/plain": [
       "mcf       11354\n",
       "ton        8958\n",
       "bbl        7998\n",
       "gramsU      464\n",
       "mmbtu       180\n",
       "kgU         110\n",
       "mwhth       100\n",
       "mwdth        95\n",
       "gal          84\n",
       "Name: fuel_unit, dtype: int64"
      ]
     },
     "execution_count": 27,
     "metadata": {},
     "output_type": "execute_result"
    }
   ],
   "source": [
    "df['fuel_unit'].value_counts()"
   ]
  },
  {
   "cell_type": "code",
   "execution_count": 30,
   "metadata": {},
   "outputs": [
    {
     "data": {
      "text/plain": [
       "utility_id_ferc1               -0.037863\n",
       "fuel_qty_burned                -0.018535\n",
       "fuel_mmbtu_per_unit            -0.010034\n",
       "fuel_cost_per_mmbtu            -0.000437\n",
       "fuel_cost_per_unit_delivered    0.011007\n",
       "report_year                     0.013599\n",
       "fuel_cost_per_unit_burned       1.000000\n",
       "Name: fuel_cost_per_unit_burned, dtype: float64"
      ]
     },
     "execution_count": 30,
     "metadata": {},
     "output_type": "execute_result"
    }
   ],
   "source": [
    "df.corr()['fuel_cost_per_unit_burned'].sort_values(ascending=True)"
   ]
  },
  {
   "cell_type": "code",
   "execution_count": null,
   "metadata": {},
   "outputs": [],
   "source": []
  },
  {
   "cell_type": "code",
   "execution_count": null,
   "metadata": {},
   "outputs": [],
   "source": []
  },
  {
   "cell_type": "code",
   "execution_count": 46,
   "metadata": {},
   "outputs": [],
   "source": [
    "percent_missing = df.isnull().sum() * 100 / len(df)\n",
    "missing_value_df = pd.DataFrame({'column_name': df.columns,\n",
    "                                 'percent_missing': percent_missing})"
   ]
  },
  {
   "cell_type": "code",
   "execution_count": 47,
   "metadata": {},
   "outputs": [
    {
     "data": {
      "text/html": [
       "<div>\n",
       "<style scoped>\n",
       "    .dataframe tbody tr th:only-of-type {\n",
       "        vertical-align: middle;\n",
       "    }\n",
       "\n",
       "    .dataframe tbody tr th {\n",
       "        vertical-align: top;\n",
       "    }\n",
       "\n",
       "    .dataframe thead th {\n",
       "        text-align: right;\n",
       "    }\n",
       "</style>\n",
       "<table border=\"1\" class=\"dataframe\">\n",
       "  <thead>\n",
       "    <tr style=\"text-align: right;\">\n",
       "      <th></th>\n",
       "      <th>column_name</th>\n",
       "      <th>percent_missing</th>\n",
       "    </tr>\n",
       "  </thead>\n",
       "  <tbody>\n",
       "    <tr>\n",
       "      <th>record_id</th>\n",
       "      <td>record_id</td>\n",
       "      <td>0.000000</td>\n",
       "    </tr>\n",
       "    <tr>\n",
       "      <th>utility_id_ferc1</th>\n",
       "      <td>utility_id_ferc1</td>\n",
       "      <td>0.000000</td>\n",
       "    </tr>\n",
       "    <tr>\n",
       "      <th>report_year</th>\n",
       "      <td>report_year</td>\n",
       "      <td>0.000000</td>\n",
       "    </tr>\n",
       "    <tr>\n",
       "      <th>plant_name_ferc1</th>\n",
       "      <td>plant_name_ferc1</td>\n",
       "      <td>0.000000</td>\n",
       "    </tr>\n",
       "    <tr>\n",
       "      <th>fuel_type_code_pudl</th>\n",
       "      <td>fuel_type_code_pudl</td>\n",
       "      <td>0.000000</td>\n",
       "    </tr>\n",
       "    <tr>\n",
       "      <th>fuel_unit</th>\n",
       "      <td>fuel_unit</td>\n",
       "      <td>0.609694</td>\n",
       "    </tr>\n",
       "    <tr>\n",
       "      <th>fuel_qty_burned</th>\n",
       "      <td>fuel_qty_burned</td>\n",
       "      <td>0.000000</td>\n",
       "    </tr>\n",
       "    <tr>\n",
       "      <th>fuel_mmbtu_per_unit</th>\n",
       "      <td>fuel_mmbtu_per_unit</td>\n",
       "      <td>0.000000</td>\n",
       "    </tr>\n",
       "    <tr>\n",
       "      <th>fuel_cost_per_unit_burned</th>\n",
       "      <td>fuel_cost_per_unit_burned</td>\n",
       "      <td>0.000000</td>\n",
       "    </tr>\n",
       "    <tr>\n",
       "      <th>fuel_cost_per_unit_delivered</th>\n",
       "      <td>fuel_cost_per_unit_delivered</td>\n",
       "      <td>0.000000</td>\n",
       "    </tr>\n",
       "    <tr>\n",
       "      <th>fuel_cost_per_mmbtu</th>\n",
       "      <td>fuel_cost_per_mmbtu</td>\n",
       "      <td>0.000000</td>\n",
       "    </tr>\n",
       "  </tbody>\n",
       "</table>\n",
       "</div>"
      ],
      "text/plain": [
       "                                               column_name  percent_missing\n",
       "record_id                                        record_id         0.000000\n",
       "utility_id_ferc1                          utility_id_ferc1         0.000000\n",
       "report_year                                    report_year         0.000000\n",
       "plant_name_ferc1                          plant_name_ferc1         0.000000\n",
       "fuel_type_code_pudl                    fuel_type_code_pudl         0.000000\n",
       "fuel_unit                                        fuel_unit         0.609694\n",
       "fuel_qty_burned                            fuel_qty_burned         0.000000\n",
       "fuel_mmbtu_per_unit                    fuel_mmbtu_per_unit         0.000000\n",
       "fuel_cost_per_unit_burned        fuel_cost_per_unit_burned         0.000000\n",
       "fuel_cost_per_unit_delivered  fuel_cost_per_unit_delivered         0.000000\n",
       "fuel_cost_per_mmbtu                    fuel_cost_per_mmbtu         0.000000"
      ]
     },
     "execution_count": 47,
     "metadata": {},
     "output_type": "execute_result"
    }
   ],
   "source": [
    "missing_value_df"
   ]
  },
  {
   "cell_type": "code",
   "execution_count": null,
   "metadata": {},
   "outputs": [],
   "source": []
  },
  {
   "cell_type": "code",
   "execution_count": 56,
   "metadata": {},
   "outputs": [
    {
     "data": {
      "text/plain": [
       "fuel_type_code_pudl\n",
       "coal         67.421830\n",
       "gas          13.659397\n",
       "nuclear    4955.157002\n",
       "oil         168.877086\n",
       "other        18.253856\n",
       "waste        19.518122\n",
       "Name: fuel_cost_per_unit_burned, dtype: float64"
      ]
     },
     "execution_count": 56,
     "metadata": {},
     "output_type": "execute_result"
    }
   ],
   "source": [
    "df.groupby(['fuel_type_code_pudl'])['fuel_cost_per_unit_burned'].mean()"
   ]
  },
  {
   "cell_type": "code",
   "execution_count": 51,
   "metadata": {},
   "outputs": [
    {
     "data": {
      "text/plain": [
       "3.830000000000002"
      ]
     },
     "execution_count": 51,
     "metadata": {},
     "output_type": "execute_result"
    }
   ],
   "source": [
    "31.44 - 27.61"
   ]
  },
  {
   "cell_type": "code",
   "execution_count": 53,
   "metadata": {},
   "outputs": [
    {
     "data": {
      "text/plain": [
       "0.1208651399491094"
      ]
     },
     "execution_count": 53,
     "metadata": {},
     "output_type": "execute_result"
    }
   ],
   "source": [
    "3.8/31.44"
   ]
  },
  {
   "cell_type": "code",
   "execution_count": 54,
   "metadata": {},
   "outputs": [
    {
     "data": {
      "text/plain": [
       "0.13763129300977905"
      ]
     },
     "execution_count": 54,
     "metadata": {},
     "output_type": "execute_result"
    }
   ],
   "source": [
    "3.8/27.61"
   ]
  },
  {
   "cell_type": "code",
   "execution_count": null,
   "metadata": {},
   "outputs": [],
   "source": []
  }
 ],
 "metadata": {
  "kernelspec": {
   "display_name": "Python 3",
   "language": "python",
   "name": "python3"
  },
  "language_info": {
   "codemirror_mode": {
    "name": "ipython",
    "version": 3
   },
   "file_extension": ".py",
   "mimetype": "text/x-python",
   "name": "python",
   "nbconvert_exporter": "python",
   "pygments_lexer": "ipython3",
   "version": "3.8.6"
  }
 },
 "nbformat": 4,
 "nbformat_minor": 4
}
